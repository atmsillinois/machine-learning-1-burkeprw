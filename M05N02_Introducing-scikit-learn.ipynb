{
  "cells": [
    {
      "cell_type": "markdown",
      "metadata": {
        "deletable": true,
        "editable": true,
        "id": "XZQnFDP6qvij"
      },
      "source": [
        "<!--BOOK_INFORMATION-->\n",
        "<img align=\"left\" style=\"padding-right:10px;\" src=\"https://github.com/jakevdp/PythonDataScienceHandbook/blob/master/notebooks/figures/PDSH-cover-small.png?raw=1\">\n",
        "\n",
        "*This notebook contains an excerpt from the [Python Data Science Handbook](http://shop.oreilly.com/product/0636920034919.do) by Jake VanderPlas; the content is available [on GitHub](https://github.com/jakevdp/PythonDataScienceHandbook).*\n",
        "\n",
        "*The text is released under the [CC-BY-NC-ND license](https://creativecommons.org/licenses/by-nc-nd/3.0/us/legalcode), and code is released under the [MIT license](https://opensource.org/licenses/MIT). If you find this content useful, please consider supporting the work by [buying the book](http://shop.oreilly.com/product/0636920034919.do)!*"
      ]
    },
    {
      "cell_type": "markdown",
      "metadata": {
        "deletable": true,
        "editable": true,
        "id": "qZ_v5ajPqvil"
      },
      "source": [
        "<!--NAVIGATION-->\n",
        "< [What Is Machine Learning?](05.01-What-Is-Machine-Learning.ipynb) | [Contents](Index.ipynb) | [Hyperparameters and Model Validation](05.03-Hyperparameters-and-Model-Validation.ipynb) >\n",
        "\n",
        "<a href=\"https://colab.research.google.com/github/jakevdp/PythonDataScienceHandbook/blob/master/notebooks/05.02-Introducing-Scikit-Learn.ipynb\"><img align=\"left\" src=\"https://colab.research.google.com/assets/colab-badge.svg\" alt=\"Open in Colab\" title=\"Open and Execute in Google Colaboratory\"></a>\n"
      ]
    },
    {
      "cell_type": "markdown",
      "metadata": {
        "id": "UXglU-TGqvil"
      },
      "source": [
        "# Introducing Scikit-Learn"
      ]
    },
    {
      "cell_type": "markdown",
      "metadata": {
        "deletable": true,
        "editable": true,
        "id": "HLingW01qvil"
      },
      "source": [
        "There are several Python libraries which provide solid implementations of a range of machine learning algorithms.\n",
        "One of the best known is [Scikit-Learn](http://scikit-learn.org), a package that provides efficient versions of a large number of common algorithms.\n",
        "Scikit-Learn is characterized by a clean, uniform, and streamlined API, as well as by very useful and complete online documentation.\n",
        "A benefit of this uniformity is that once you understand the basic use and syntax of Scikit-Learn for one type of model, switching to a new model or algorithm is very straightforward.\n",
        "\n",
        "This section provides an overview of the Scikit-Learn API; a solid understanding of these API elements will form the foundation for understanding the deeper practical discussion of machine learning algorithms and approaches in the following chapters.\n",
        "\n",
        "We will start by covering *data representation* in Scikit-Learn, followed by covering the *Estimator* API, and finally go through a more interesting example of using these tools for exploring a set of images of hand-written digits."
      ]
    },
    {
      "cell_type": "markdown",
      "metadata": {
        "deletable": true,
        "editable": true,
        "id": "NiETUvThqvil"
      },
      "source": [
        "## Data Representation in Scikit-Learn"
      ]
    },
    {
      "cell_type": "markdown",
      "metadata": {
        "deletable": true,
        "editable": true,
        "id": "2gsU9c1Sqvil"
      },
      "source": [
        "Machine learning is about creating models from data: for that reason, we'll start by discussing how data can be represented in order to be understood by the computer.\n",
        "The best way to think about data within Scikit-Learn is in terms of tables of data."
      ]
    },
    {
      "cell_type": "markdown",
      "metadata": {
        "deletable": true,
        "editable": true,
        "id": "lnB9nPGGqvim"
      },
      "source": [
        "### Data as table\n",
        "\n",
        "A basic table is a two-dimensional grid of data, in which the rows represent individual elements of the dataset, and the columns represent quantities related to each of these elements.\n",
        "For example, consider the [Iris dataset](https://en.wikipedia.org/wiki/Iris_flower_data_set), famously analyzed by Ronald Fisher in 1936.\n",
        "We can download this dataset in the form of a Pandas ``DataFrame`` using the [seaborn](http://seaborn.pydata.org/) library:"
      ]
    },
    {
      "cell_type": "code",
      "execution_count": 1,
      "metadata": {
        "deletable": true,
        "editable": true,
        "id": "9qzyw-2Rqvim",
        "outputId": "5f2f3250-dbf4-4a3d-c9ef-f9379e07bcd4"
      },
      "outputs": [
        {
          "data": {
            "text/html": [
              "<div>\n",
              "<style scoped>\n",
              "    .dataframe tbody tr th:only-of-type {\n",
              "        vertical-align: middle;\n",
              "    }\n",
              "\n",
              "    .dataframe tbody tr th {\n",
              "        vertical-align: top;\n",
              "    }\n",
              "\n",
              "    .dataframe thead th {\n",
              "        text-align: right;\n",
              "    }\n",
              "</style>\n",
              "<table border=\"1\" class=\"dataframe\">\n",
              "  <thead>\n",
              "    <tr style=\"text-align: right;\">\n",
              "      <th></th>\n",
              "      <th>sepal_length</th>\n",
              "      <th>sepal_width</th>\n",
              "      <th>petal_length</th>\n",
              "      <th>petal_width</th>\n",
              "      <th>species</th>\n",
              "    </tr>\n",
              "  </thead>\n",
              "  <tbody>\n",
              "    <tr>\n",
              "      <th>0</th>\n",
              "      <td>5.1</td>\n",
              "      <td>3.5</td>\n",
              "      <td>1.4</td>\n",
              "      <td>0.2</td>\n",
              "      <td>setosa</td>\n",
              "    </tr>\n",
              "    <tr>\n",
              "      <th>1</th>\n",
              "      <td>4.9</td>\n",
              "      <td>3.0</td>\n",
              "      <td>1.4</td>\n",
              "      <td>0.2</td>\n",
              "      <td>setosa</td>\n",
              "    </tr>\n",
              "    <tr>\n",
              "      <th>2</th>\n",
              "      <td>4.7</td>\n",
              "      <td>3.2</td>\n",
              "      <td>1.3</td>\n",
              "      <td>0.2</td>\n",
              "      <td>setosa</td>\n",
              "    </tr>\n",
              "    <tr>\n",
              "      <th>3</th>\n",
              "      <td>4.6</td>\n",
              "      <td>3.1</td>\n",
              "      <td>1.5</td>\n",
              "      <td>0.2</td>\n",
              "      <td>setosa</td>\n",
              "    </tr>\n",
              "    <tr>\n",
              "      <th>4</th>\n",
              "      <td>5.0</td>\n",
              "      <td>3.6</td>\n",
              "      <td>1.4</td>\n",
              "      <td>0.2</td>\n",
              "      <td>setosa</td>\n",
              "    </tr>\n",
              "  </tbody>\n",
              "</table>\n",
              "</div>"
            ],
            "text/plain": [
              "   sepal_length  sepal_width  petal_length  petal_width species\n",
              "0           5.1          3.5           1.4          0.2  setosa\n",
              "1           4.9          3.0           1.4          0.2  setosa\n",
              "2           4.7          3.2           1.3          0.2  setosa\n",
              "3           4.6          3.1           1.5          0.2  setosa\n",
              "4           5.0          3.6           1.4          0.2  setosa"
            ]
          },
          "execution_count": 1,
          "metadata": {},
          "output_type": "execute_result"
        }
      ],
      "source": [
        "import seaborn as sns\n",
        "iris = sns.load_dataset('iris')\n",
        "iris.head()"
      ]
    },
    {
      "cell_type": "markdown",
      "metadata": {
        "deletable": true,
        "editable": true,
        "id": "GcJRaK1Qqvin"
      },
      "source": [
        "Here each row of the data refers to a single observed flower, and the number of rows is the total number of flowers in the dataset.\n",
        "In general, we will refer to the rows of the matrix as *samples*, and the number of rows as ``n_samples``.\n",
        "\n",
        "Likewise, each column of the data refers to a particular quantitative piece of information that describes each sample.\n",
        "In general, we will refer to the columns of the matrix as *features*, and the number of columns as ``n_features``."
      ]
    },
    {
      "cell_type": "markdown",
      "metadata": {
        "deletable": true,
        "editable": true,
        "id": "guIevt8Bqvin"
      },
      "source": [
        "#### Features matrix\n",
        "\n",
        "This table layout makes clear that the information can be thought of as a two-dimensional numerical array or matrix, which we will call the *features matrix*.\n",
        "By convention, this features matrix is often stored in a variable named ``X``.\n",
        "The features matrix is assumed to be two-dimensional, with shape ``[n_samples, n_features]``, and is most often contained in a NumPy array or a Pandas ``DataFrame``, though some Scikit-Learn models also accept SciPy sparse matrices.\n",
        "\n",
        "The samples (i.e., rows) always refer to the individual objects described by the dataset.\n",
        "For example, the sample might be a flower, a person, a document, an image, a sound file, a video, an astronomical object, or anything else you can describe with a set of quantitative measurements.\n",
        "\n",
        "The features (i.e., columns) always refer to the distinct observations that describe each sample in a quantitative manner.\n",
        "Features are generally real-valued, but may be Boolean or discrete-valued in some cases."
      ]
    },
    {
      "cell_type": "markdown",
      "metadata": {
        "deletable": true,
        "editable": true,
        "id": "4H-Gj0Oyqvin"
      },
      "source": [
        "#### Target array\n",
        "\n",
        "In addition to the feature matrix ``X``, we also generally work with a *label* or *target* array, which by convention we will usually call ``y``.\n",
        "The target array is usually one dimensional, with length ``n_samples``, and is generally contained in a NumPy array or Pandas ``Series``.\n",
        "The target array may have continuous numerical values, or discrete classes/labels.\n",
        "While some Scikit-Learn estimators do handle multiple target values in the form of a two-dimensional, ``[n_samples, n_targets]`` target array, we will primarily be working with the common case of a one-dimensional target array.\n",
        "\n",
        "Often one point of confusion is how the target array differs from the other features columns. The distinguishing feature of the target array is that it is usually the quantity we want to *predict from the data*: in statistical terms, it is the dependent variable.\n",
        "For example, in the preceding data we may wish to construct a model that can predict the species of flower based on the other measurements; in this case, the ``species`` column would be considered the target array.\n",
        "\n",
        "With this target array in mind, we can use Seaborn (see [Visualization With Seaborn](04.14-Visualization-With-Seaborn.ipynb)) to conveniently visualize the data:"
      ]
    },
    {
      "cell_type": "code",
      "execution_count": 3,
      "metadata": {
        "deletable": true,
        "editable": true,
        "id": "6SWyBa4uqvio",
        "outputId": "ac3a96c8-a1b8-49a0-b0e6-2a3f7dbf11e3"
      },
      "outputs": [
        {
          "name": "stderr",
          "output_type": "stream",
          "text": [
            "c:\\Users\\pburke\\AppData\\Local\\R-MINI~1\\envs\\py3\\lib\\site-packages\\seaborn\\axisgrid.py:2095: UserWarning: The `size` parameter has been renamed to `height`; please update your code.\n",
            "  warnings.warn(msg, UserWarning)\n"
          ]
        },
        {
          "data": {
            "image/png": "[encoded data removed]",
            "text/plain": [
              "<Figure size 546.722x450 with 12 Axes>"
            ]
          },
          "metadata": {},
          "output_type": "display_data"
        }
      ],
      "source": [
        "%matplotlib inline\n",
        "import seaborn as sns; sns.set()\n",
        "#sns.pairplot(iris, hue='petal_width', size=1.5);\n",
        "sns.pairplot(iris, hue='species', size=1.5);"
      ]
    },
    {
      "cell_type": "markdown",
      "metadata": {
        "deletable": true,
        "editable": true,
        "id": "QOPelwuqqvio"
      },
      "source": [
        "For use in Scikit-Learn, we will extract the features matrix and target array from the ``DataFrame``, which we can do using some of the Pandas ``DataFrame`` operations discussed in the [Chapter 3](03.00-Introduction-to-Pandas.ipynb):"
      ]
    },
    {
      "cell_type": "code",
      "execution_count": 2,
      "metadata": {
        "deletable": true,
        "editable": true,
        "id": "LYgpuApWqvio",
        "outputId": "87ca1b43-9d3e-4efe-f311-4b2939170120"
      },
      "outputs": [
        {
          "data": {
            "text/plain": [
              "(150, 4)"
            ]
          },
          "execution_count": 2,
          "metadata": {},
          "output_type": "execute_result"
        }
      ],
      "source": [
        "X_iris = iris.drop('species', axis=1)\n",
        "X_iris.shape"
      ]
    },
    {
      "cell_type": "code",
      "execution_count": 6,
      "metadata": {},
      "outputs": [
        {
          "data": {
            "text/plain": [
              "0    setosa\n",
              "1    setosa\n",
              "2    setosa\n",
              "3    setosa\n",
              "4    setosa\n",
              "Name: species, dtype: object"
            ]
          },
          "execution_count": 6,
          "metadata": {},
          "output_type": "execute_result"
        }
      ],
      "source": [
        "y_iris.head()"
      ]
    },
    {
      "cell_type": "code",
      "execution_count": 3,
      "metadata": {
        "deletable": true,
        "editable": true,
        "id": "L6gVlfNtqvio",
        "outputId": "7761458f-215b-41b3-8d1a-ca3275028f2a"
      },
      "outputs": [
        {
          "data": {
            "text/plain": [
              "(150,)"
            ]
          },
          "execution_count": 3,
          "metadata": {},
          "output_type": "execute_result"
        }
      ],
      "source": [
        "y_iris = iris['species']\n",
        "y_iris.shape"
      ]
    },
    {
      "cell_type": "markdown",
      "metadata": {
        "deletable": true,
        "editable": true,
        "id": "K7lbrgNtqvip"
      },
      "source": [
        "To summarize, the expected layout of features and target values is visualized in the following diagram:"
      ]
    },
    {
      "cell_type": "markdown",
      "metadata": {
        "deletable": true,
        "editable": true,
        "id": "tLm_E60Tqvip"
      },
      "source": [
        "![](https://github.com/jakevdp/PythonDataScienceHandbook/blob/master/notebooks/figures/05.02-samples-features.png?raw=1)\n",
        "[figure source in Appendix](06.00-Figure-Code.ipynb#Features-and-Labels-Grid)"
      ]
    },
    {
      "cell_type": "markdown",
      "metadata": {
        "deletable": true,
        "editable": true,
        "id": "RqoNnUO5qvip"
      },
      "source": [
        "With this data properly formatted, we can move on to consider the *estimator* API of Scikit-Learn:"
      ]
    },
    {
      "cell_type": "markdown",
      "metadata": {
        "deletable": true,
        "editable": true,
        "id": "6uWz0fu-qvip"
      },
      "source": [
        "## Scikit-Learn's Estimator API"
      ]
    },
    {
      "cell_type": "markdown",
      "metadata": {
        "deletable": true,
        "editable": true,
        "id": "PKvzzsfSqvip"
      },
      "source": [
        "The Scikit-Learn API is designed with the following guiding principles in mind, as outlined in the [Scikit-Learn API paper](http://arxiv.org/abs/1309.0238):\n",
        "\n",
        "- *Consistency*: All objects share a common interface drawn from a limited set of methods, with consistent documentation.\n",
        "\n",
        "- *Inspection*: All specified parameter values are exposed as public attributes.\n",
        "\n",
        "- *Limited object hierarchy*: Only algorithms are represented by Python classes; datasets are represented\n",
        "  in standard formats (NumPy arrays, Pandas ``DataFrame``s, SciPy sparse matrices) and parameter\n",
        "  names use standard Python strings.\n",
        "\n",
        "- *Composition*: Many machine learning tasks can be expressed as sequences of more fundamental algorithms,\n",
        "  and Scikit-Learn makes use of this wherever possible.\n",
        "\n",
        "- *Sensible defaults*: When models require user-specified parameters, the library defines an appropriate default value.\n",
        "\n",
        "In practice, these principles make Scikit-Learn very easy to use, once the basic principles are understood.\n",
        "Every machine learning algorithm in Scikit-Learn is implemented via the Estimator API, which provides a consistent interface for a wide range of machine learning applications."
      ]
    },
    {
      "cell_type": "markdown",
      "metadata": {
        "deletable": true,
        "editable": true,
        "id": "px4Ovx_Dqvip"
      },
      "source": [
        "### Basics of the API\n",
        "\n",
        "Most commonly, the steps in using the Scikit-Learn estimator API are as follows\n",
        "(we will step through a handful of detailed examples in the sections that follow).\n",
        "\n",
        "1. Choose a class of model by importing the appropriate estimator class from Scikit-Learn.\n",
        "2. Choose model hyperparameters by instantiating this class with desired values.\n",
        "3. Arrange data into a features matrix and target vector following the discussion above.\n",
        "4. Fit the model to your data by calling the ``fit()`` method of the model instance.\n",
        "5. Apply the Model to new data:\n",
        "   - For supervised learning, often we predict labels for unknown data using the ``predict()`` method.\n",
        "   - For unsupervised learning, we often transform or infer properties of the data using the ``transform()`` or ``predict()`` method.\n",
        "\n",
        "We will now step through several simple examples of applying supervised and unsupervised learning methods."
      ]
    },
    {
      "cell_type": "markdown",
      "metadata": {
        "deletable": true,
        "editable": true,
        "id": "Ed883Tdoqvip"
      },
      "source": [
        "### Supervised learning example: Simple linear regression\n",
        "\n",
        "As an example of this process, let's consider a simple linear regression—that is, the common case of fitting a line to $(x, y)$ data.\n",
        "We will use the following simple data for our regression example:"
      ]
    },
    {
      "cell_type": "code",
      "execution_count": null,
      "metadata": {
        "deletable": true,
        "editable": true,
        "id": "Oxyef8DHqviq",
        "outputId": "c9ed81bb-674c-4b13-dc7a-de72b0012819"
      },
      "outputs": [],
      "source": [
        "import matplotlib.pyplot as plt\n",
        "import numpy as np\n",
        "\n",
        "rng = np.random.RandomState(42)\n",
        "x = 10 * rng.rand(50)\n",
        "y = 2 * x - 1 + rng.randn(50)\n",
        "plt.scatter(x, y);"
      ]
    },
    {
      "cell_type": "markdown",
      "metadata": {
        "deletable": true,
        "editable": true,
        "id": "DTy2kHDyqviq"
      },
      "source": [
        "With this data in place, we can use the recipe outlined earlier. Let's walk through the process: "
      ]
    },
    {
      "cell_type": "markdown",
      "metadata": {
        "deletable": true,
        "editable": true,
        "id": "JLnJp5zpqviq"
      },
      "source": [
        "#### 1. Choose a class of model\n",
        "\n",
        "In Scikit-Learn, every class of model is represented by a Python class.\n",
        "So, for example, if we would like to compute a simple linear regression model, we can import the linear regression class:"
      ]
    },
    {
      "cell_type": "code",
      "execution_count": null,
      "metadata": {
        "collapsed": true,
        "deletable": true,
        "editable": true,
        "id": "ic_zCJlBqviq"
      },
      "outputs": [],
      "source": [
        "from sklearn.linear_model import LinearRegression"
      ]
    },
    {
      "cell_type": "markdown",
      "metadata": {
        "deletable": true,
        "editable": true,
        "id": "JtFiXaxTqviq"
      },
      "source": [
        "Note that other more general linear regression models exist as well; you can read more about them in the [``sklearn.linear_model`` module documentation](http://Scikit-Learn.org/stable/modules/linear_model.html)."
      ]
    },
    {
      "cell_type": "markdown",
      "metadata": {
        "deletable": true,
        "editable": true,
        "id": "_RIAvWOUqviq"
      },
      "source": [
        "#### 2. Choose model hyperparameters\n",
        "\n",
        "An important point is that *a class of model is not the same as an instance of a model*.\n",
        "\n",
        "Once we have decided on our model class, there are still some options open to us.\n",
        "Depending on the model class we are working with, we might need to answer one or more questions like the following:\n",
        "\n",
        "- Would we like to fit for the offset (i.e., *y*-intercept)?\n",
        "- Would we like the model to be normalized?\n",
        "- Would we like to preprocess our features to add model flexibility?\n",
        "- What degree of regularization would we like to use in our model?\n",
        "- How many model components would we like to use?\n",
        "\n",
        "These are examples of the important choices that must be made *once the model class is selected*.\n",
        "These choices are often represented as *hyperparameters*, or parameters that must be set before the model is fit to data.\n",
        "In Scikit-Learn, hyperparameters are chosen by passing values at model instantiation.\n",
        "We will explore how you can quantitatively motivate the choice of hyperparameters in [Hyperparameters and Model Validation](05.03-Hyperparameters-and-Model-Validation.ipynb).\n",
        "\n",
        "For our linear regression example, we can instantiate the ``LinearRegression`` class and specify that we would like to fit the intercept using the ``fit_intercept`` hyperparameter:"
      ]
    },
    {
      "cell_type": "code",
      "execution_count": null,
      "metadata": {
        "deletable": true,
        "editable": true,
        "id": "G98f_Lwgqviq",
        "outputId": "04565f06-7d1a-40da-b76b-df4fe6760efb"
      },
      "outputs": [],
      "source": [
        "model = LinearRegression(fit_intercept=True)\n",
        "model"
      ]
    },
    {
      "cell_type": "markdown",
      "metadata": {
        "deletable": true,
        "editable": true,
        "id": "-B2p2eioqvir"
      },
      "source": [
        "Keep in mind that when the model is instantiated, the only action is the storing of these hyperparameter values.\n",
        "In particular, we have not yet applied the model to any data: the Scikit-Learn API makes very clear the distinction between *choice of model* and *application of model to data*."
      ]
    },
    {
      "cell_type": "markdown",
      "metadata": {
        "deletable": true,
        "editable": true,
        "id": "it3X0uJnqvir"
      },
      "source": [
        "#### 3. Arrange data into a features matrix and target vector\n",
        "\n",
        "Previously we detailed the Scikit-Learn data representation, which requires a two-dimensional features matrix and a one-dimensional target array.\n",
        "Here our target variable ``y`` is already in the correct form (a length-``n_samples`` array), but we need to massage the data ``x`` to make it a matrix of size ``[n_samples, n_features]``.\n",
        "In this case, this amounts to a simple reshaping of the one-dimensional array:"
      ]
    },
    {
      "cell_type": "code",
      "execution_count": null,
      "metadata": {
        "deletable": true,
        "editable": true,
        "id": "GElh69-pqvir",
        "outputId": "9033de76-9c0c-4d42-b183-a3d387219572"
      },
      "outputs": [],
      "source": [
        "X = x[:, np.newaxis]\n",
        "X.shape"
      ]
    },
    {
      "cell_type": "markdown",
      "metadata": {
        "deletable": true,
        "editable": true,
        "id": "c23sX3Gqqvir"
      },
      "source": [
        "#### 4. Fit the model to your data\n",
        "\n",
        "Now it is time to apply our model to data.\n",
        "This can be done with the ``fit()`` method of the model:"
      ]
    },
    {
      "cell_type": "code",
      "execution_count": null,
      "metadata": {
        "deletable": true,
        "editable": true,
        "id": "0IorpC9lqvir",
        "outputId": "934ff409-876e-4dfe-a613-4130911073f5"
      },
      "outputs": [],
      "source": [
        "model.fit(X, y)"
      ]
    },
    {
      "cell_type": "markdown",
      "metadata": {
        "deletable": true,
        "editable": true,
        "id": "TZsimzBfqvis"
      },
      "source": [
        "This ``fit()`` command causes a number of model-dependent internal computations to take place, and the results of these computations are stored in model-specific attributes that the user can explore.\n",
        "In Scikit-Learn, by convention all model parameters that were learned during the ``fit()`` process have trailing underscores; for example in this linear model, we have the following:"
      ]
    },
    {
      "cell_type": "code",
      "execution_count": null,
      "metadata": {
        "deletable": true,
        "editable": true,
        "id": "5p2TGhGLqvis",
        "outputId": "d5dd2124-31b1-458a-ad19-12e160b76c29"
      },
      "outputs": [],
      "source": [
        "model.coef_"
      ]
    },
    {
      "cell_type": "code",
      "execution_count": null,
      "metadata": {
        "deletable": true,
        "editable": true,
        "id": "KY4H4hTbqvit",
        "outputId": "22c3af8c-5c0e-459f-b38a-fd3bccc2d761"
      },
      "outputs": [],
      "source": [
        "model.intercept_"
      ]
    },
    {
      "cell_type": "code",
      "execution_count": null,
      "metadata": {},
      "outputs": [],
      "source": [
        "model.singular_"
      ]
    },
    {
      "cell_type": "code",
      "execution_count": null,
      "metadata": {},
      "outputs": [],
      "source": [
        "model.rank_"
      ]
    },
    {
      "cell_type": "markdown",
      "metadata": {
        "deletable": true,
        "editable": true,
        "id": "KylgSqnNqvit"
      },
      "source": [
        "These two parameters represent the slope and intercept of the simple linear fit to the data.\n",
        "Comparing to the data definition, we see that they are very close to the input slope of 2 and intercept of -1.\n",
        "\n",
        "One question that frequently comes up regards the uncertainty in such internal model parameters.\n",
        "In general, Scikit-Learn does not provide tools to draw conclusions from internal model parameters themselves: interpreting model parameters is much more a *statistical modeling* question than a *machine learning* question.\n",
        "Machine learning rather focuses on what the model *predicts*.\n",
        "If you would like to dive into the meaning of fit parameters within the model, other tools are available, including the [Statsmodels Python package](http://statsmodels.sourceforge.net/)."
      ]
    },
    {
      "cell_type": "markdown",
      "metadata": {
        "deletable": true,
        "editable": true,
        "id": "L317kWEjqvit"
      },
      "source": [
        "#### 5. Predict labels for unknown data\n",
        "\n",
        "Once the model is trained, the main task of supervised machine learning is to evaluate it based on what it says about new data that was not part of the training set.\n",
        "In Scikit-Learn, this can be done using the ``predict()`` method.\n",
        "For the sake of this example, our \"new data\" will be a grid of *x* values, and we will ask what *y* values the model predicts:"
      ]
    },
    {
      "cell_type": "code",
      "execution_count": null,
      "metadata": {
        "collapsed": true,
        "deletable": true,
        "editable": true,
        "id": "8Tr5kORcqvit"
      },
      "outputs": [],
      "source": [
        "xfit = np.linspace(-1, 11)"
      ]
    },
    {
      "cell_type": "markdown",
      "metadata": {
        "deletable": true,
        "editable": true,
        "id": "WxYBgNwzqvit"
      },
      "source": [
        "As before, we need to coerce these *x* values into a ``[n_samples, n_features]`` features matrix, after which we can feed it to the model:"
      ]
    },
    {
      "cell_type": "code",
      "execution_count": null,
      "metadata": {
        "deletable": true,
        "editable": true,
        "id": "eN4iPHE5qviu"
      },
      "outputs": [],
      "source": [
        "Xfit = xfit[:, np.newaxis]\n",
        "yfit = model.predict(Xfit)"
      ]
    },
    {
      "cell_type": "markdown",
      "metadata": {
        "deletable": true,
        "editable": true,
        "id": "mGel2U9oqviu"
      },
      "source": [
        "Finally, let's visualize the results by plotting first the raw data, and then this model fit:"
      ]
    },
    {
      "cell_type": "code",
      "execution_count": null,
      "metadata": {
        "deletable": true,
        "editable": true,
        "id": "Xi3q4Liwqviu",
        "outputId": "e4d88d9c-a1f8-4546-e55a-1c03d1bcc2c0"
      },
      "outputs": [],
      "source": [
        "plt.scatter(x, y)\n",
        "plt.plot(xfit, yfit);"
      ]
    },
    {
      "cell_type": "markdown",
      "metadata": {
        "deletable": true,
        "editable": true,
        "id": "G6wNFntXqviu"
      },
      "source": [
        "Typically the efficacy of the model is evaluated by comparing its results to some known baseline, as we will see in the next example"
      ]
    },
    {
      "cell_type": "markdown",
      "metadata": {
        "deletable": true,
        "editable": true,
        "id": "2VFL4bIFqviu"
      },
      "source": [
        "### Supervised learning example: Iris classification\n",
        "\n",
        "Let's take a look at another example of this process, using the Iris dataset we discussed earlier.\n",
        "Our question will be this: given a model trained on a portion of the Iris data, how well can we predict the remaining labels?\n",
        "\n",
        "For this task, we will use an extremely simple generative model known as Gaussian naive Bayes, which proceeds by assuming each class is drawn from an axis-aligned Gaussian distribution (see [In Depth: Naive Bayes Classification](05.05-Naive-Bayes.ipynb) for more details).\n",
        "Because it is so fast and has no hyperparameters to choose, Gaussian naive Bayes is often a good model to use as a baseline classification, before exploring whether improvements can be found through more sophisticated models.\n",
        "\n",
        "We would like to evaluate the model on data it has not seen before, and so we will split the data into a *training set* and a *testing set*.\n",
        "This could be done by hand, but it is more convenient to use the ``train_test_split`` utility function:"
      ]
    },
    {
      "cell_type": "code",
      "execution_count": null,
      "metadata": {
        "collapsed": true,
        "deletable": true,
        "editable": true,
        "id": "Dpt9s4Gnqviv"
      },
      "outputs": [],
      "source": [
        "from sklearn.model_selection import train_test_split\n",
        "Xtrain, Xtest, ytrain, ytest = train_test_split(X_iris, y_iris,\n",
        "                                                random_state=1)"
      ]
    },
    {
      "cell_type": "code",
      "execution_count": null,
      "metadata": {},
      "outputs": [],
      "source": [
        "ytest"
      ]
    },
    {
      "cell_type": "markdown",
      "metadata": {
        "deletable": true,
        "editable": true,
        "id": "BSDENAZZqviv"
      },
      "source": [
        "With the data arranged, we can follow our recipe to predict the labels:"
      ]
    },
    {
      "cell_type": "code",
      "execution_count": null,
      "metadata": {
        "deletable": true,
        "editable": true,
        "id": "RDZ7mqrnqviv"
      },
      "outputs": [],
      "source": [
        "from sklearn.naive_bayes import GaussianNB # 1. choose model class\n",
        "model = GaussianNB()                       # 2. instantiate model\n",
        "model.fit(Xtrain, ytrain)                  # 3. fit model to data\n",
        "y_model = model.predict(Xtest)             # 4. predict on new data"
      ]
    },
    {
      "cell_type": "markdown",
      "metadata": {
        "deletable": true,
        "editable": true,
        "id": "L3LhUOoMqviv"
      },
      "source": [
        "Finally, we can use the ``accuracy_score`` utility to see the fraction of predicted labels that match their true value:"
      ]
    },
    {
      "cell_type": "code",
      "execution_count": null,
      "metadata": {
        "deletable": true,
        "editable": true,
        "id": "3yfHBwlbqviv",
        "outputId": "6a8ea168-3e74-4b60-a6cd-3efe1aa21cea"
      },
      "outputs": [],
      "source": [
        "from sklearn.metrics import accuracy_score\n",
        "accuracy_score(ytest, y_model)"
      ]
    },
    {
      "cell_type": "markdown",
      "metadata": {
        "deletable": true,
        "editable": true,
        "id": "SM_kfDEBqviv"
      },
      "source": [
        "With an accuracy topping 97%, we see that even this very naive classification algorithm is effective for this particular dataset!"
      ]
    },
    {
      "cell_type": "markdown",
      "metadata": {
        "deletable": true,
        "editable": true,
        "id": "P0Eil29rqviv"
      },
      "source": [
        "### Unsupervised learning example: Iris dimensionality\n",
        "\n",
        "As an example of an unsupervised learning problem, let's take a look at reducing the dimensionality of the Iris data so as to more easily visualize it.\n",
        "Recall that the Iris data is four dimensional: there are four features recorded for each sample.\n",
        "\n",
        "The task of dimensionality reduction is to ask whether there is a suitable lower-dimensional representation that retains the essential features of the data.\n",
        "Often dimensionality reduction is used as an aid to visualizing data: after all, it is much easier to plot data in two dimensions than in four dimensions or higher!\n",
        "\n",
        "Here we will use principal component analysis (PCA; see [In Depth: Principal Component Analysis](05.09-Principal-Component-Analysis.ipynb)), which is a fast linear dimensionality reduction technique.\n",
        "We will ask the model to return two components—that is, a two-dimensional representation of the data.\n",
        "\n",
        "Following the sequence of steps outlined earlier, we have:"
      ]
    },
    {
      "cell_type": "code",
      "execution_count": null,
      "metadata": {
        "collapsed": true,
        "deletable": true,
        "editable": true,
        "id": "EX6Mt9Tmqviv"
      },
      "outputs": [],
      "source": [
        "from sklearn.decomposition import PCA  # 1. Choose the model class\n",
        "model = PCA(n_components=2)            # 2. Instantiate the model with hyperparameters\n",
        "model.fit(X_iris)                      # 3. Fit to data. Notice y is not specified!\n",
        "X_2D = model.transform(X_iris)         # 4. Transform the data to two dimensions"
      ]
    },
    {
      "cell_type": "markdown",
      "metadata": {
        "deletable": true,
        "editable": true,
        "id": "qOo7nHEZqviv"
      },
      "source": [
        "Now let's plot the results. A quick way to do this is to insert the results into the original Iris ``DataFrame``, and use Seaborn's ``lmplot`` to show the results:"
      ]
    },
    {
      "cell_type": "code",
      "execution_count": null,
      "metadata": {
        "deletable": true,
        "editable": true,
        "id": "FUyTMgJ4qviv",
        "outputId": "462da294-2b03-4810-d3d8-362d15d9e6e1"
      },
      "outputs": [],
      "source": [
        "iris['PCA1'] = X_2D[:, 0]\n",
        "iris['PCA2'] = X_2D[:, 1]\n",
        "sns.lmplot(x=\"PCA1\", y=\"PCA2\", hue='species', data=iris, fit_reg=False);"
      ]
    },
    {
      "cell_type": "markdown",
      "metadata": {
        "deletable": true,
        "editable": true,
        "id": "0dra-rHSqviw"
      },
      "source": [
        "We see that in the two-dimensional representation, the species are fairly well separated, even though the PCA algorithm had no knowledge of the species labels!\n",
        "This indicates to us that a relatively straightforward classification will probably be effective on the dataset, as we saw before."
      ]
    },
    {
      "cell_type": "markdown",
      "metadata": {
        "deletable": true,
        "editable": true,
        "id": "jNbGCP-Mqviw"
      },
      "source": [
        "### Unsupervised learning: Iris clustering\n",
        "\n",
        "Let's next look at applying clustering to the Iris data.\n",
        "A clustering algorithm attempts to find distinct groups of data without reference to any labels.\n",
        "Here we will use a powerful clustering method called a Gaussian mixture model (GMM), discussed in more detail in [In Depth: Gaussian Mixture Models](05.12-Gaussian-Mixtures.ipynb).\n",
        "A GMM attempts to model the data as a collection of Gaussian blobs.\n",
        "\n",
        "We can fit the Gaussian mixture model as follows:"
      ]
    },
    {
      "cell_type": "code",
      "execution_count": null,
      "metadata": {
        "deletable": true,
        "editable": true,
        "id": "6vprua3Pqviw"
      },
      "outputs": [],
      "source": [
        "from sklearn.mixture import GaussianMixture      # 1. Choose the model class\n",
        "model = GaussianMixture(n_components=4,\n",
        "            covariance_type='full')  # 2. Instantiate the model with hyperparameters\n",
        "model.fit(X_iris)                    # 3. Fit to data. Notice y is not specified!\n",
        "y_gmm = model.predict(X_iris)        # 4. Determine cluster labels"
      ]
    },
    {
      "cell_type": "markdown",
      "metadata": {
        "deletable": true,
        "editable": true,
        "id": "2L6sC5PPqviw"
      },
      "source": [
        "As before, we will add the cluster label to the Iris ``DataFrame`` and use Seaborn to plot the results:"
      ]
    },
    {
      "cell_type": "code",
      "execution_count": null,
      "metadata": {
        "deletable": true,
        "editable": true,
        "id": "HxtfpqCDqviw",
        "outputId": "6824ab7f-05eb-4b93-f901-cd5c0b5a0d1a"
      },
      "outputs": [],
      "source": [
        "iris['cluster'] = y_gmm\n",
        "sns.lmplot(x=\"PCA1\", y=\"PCA2\", data=iris, hue='species',\n",
        "           col='cluster', fit_reg=False);"
      ]
    },
    {
      "cell_type": "markdown",
      "metadata": {
        "deletable": true,
        "editable": true,
        "id": "7ntDdDj2qviw"
      },
      "source": [
        "By splitting the data by cluster number, we see exactly how well the GMM algorithm has recovered the underlying label: the *setosa* species is separated perfectly within cluster 0, while there remains a small amount of mixing between *versicolor* and *virginica*.\n",
        "This means that even without an expert to tell us the species labels of the individual flowers, the measurements of these flowers are distinct enough that we could *automatically* identify the presence of these different groups of species with a simple clustering algorithm!\n",
        "This sort of algorithm might further give experts in the field clues as to the relationship between the samples they are observing."
      ]
    },
    {
      "cell_type": "markdown",
      "metadata": {
        "deletable": true,
        "editable": true,
        "id": "Mi4wO-y2qviw"
      },
      "source": [
        "## Application: Exploring Hand-written Digits"
      ]
    },
    {
      "cell_type": "markdown",
      "metadata": {
        "deletable": true,
        "editable": true,
        "id": "YdutZrytqviw"
      },
      "source": [
        "To demonstrate these principles on a more interesting problem, let's consider one piece of the optical character recognition problem: the identification of hand-written digits.\n",
        "In the wild, this problem involves both locating and identifying characters in an image. Here we'll take a shortcut and use Scikit-Learn's set of pre-formatted digits, which is built into the library."
      ]
    },
    {
      "cell_type": "markdown",
      "metadata": {
        "deletable": true,
        "editable": true,
        "id": "UVHW1uCrqviw"
      },
      "source": [
        "### Loading and visualizing the digits data\n",
        "\n",
        "We'll use Scikit-Learn's data access interface and take a look at this data:"
      ]
    },
    {
      "cell_type": "code",
      "execution_count": null,
      "metadata": {
        "deletable": true,
        "editable": true,
        "id": "3lv8wrT2qviw",
        "outputId": "31ba371f-b461-4232-a3ff-ed51d1a22bc3"
      },
      "outputs": [],
      "source": [
        "from sklearn.datasets import load_digits\n",
        "digits = load_digits()\n",
        "digits.images.shape"
      ]
    },
    {
      "cell_type": "code",
      "execution_count": null,
      "metadata": {},
      "outputs": [],
      "source": [
        "digits.images"
      ]
    },
    {
      "cell_type": "markdown",
      "metadata": {
        "deletable": true,
        "editable": true,
        "id": "NvfDKpizqviw"
      },
      "source": [
        "The images data is a three-dimensional array: 1,797 samples each consisting of an 8 × 8 grid of pixels.\n",
        "Let's visualize the first hundred of these:"
      ]
    },
    {
      "cell_type": "code",
      "execution_count": null,
      "metadata": {
        "deletable": true,
        "editable": true,
        "id": "0r4aeKV4qviw",
        "outputId": "1794fa64-73c5-434d-a067-814f76e4d77a"
      },
      "outputs": [],
      "source": [
        "import matplotlib.pyplot as plt\n",
        "\n",
        "fig, axes = plt.subplots(10, 10, figsize=(8, 8),\n",
        "                         subplot_kw={'xticks':[], 'yticks':[]},\n",
        "                         gridspec_kw=dict(hspace=0.1, wspace=0.1))\n",
        "\n",
        "for i, ax in enumerate(axes.flat):\n",
        "    ax.imshow(digits.images[i], cmap='binary', interpolation='nearest')\n",
        "    ax.text(0.05, 0.05, str(digits.target[i]),\n",
        "            transform=ax.transAxes, color='green')"
      ]
    },
    {
      "cell_type": "markdown",
      "metadata": {
        "deletable": true,
        "editable": true,
        "id": "V4t67snUqviw"
      },
      "source": [
        "In order to work with this data within Scikit-Learn, we need a two-dimensional, ``[n_samples, n_features]`` representation.\n",
        "We can accomplish this by treating each pixel in the image as a feature: that is, by flattening out the pixel arrays so that we have a length-64 array of pixel values representing each digit.\n",
        "Additionally, we need the target array, which gives the previously determined label for each digit.\n",
        "These two quantities are built into the digits dataset under the ``data`` and ``target`` attributes, respectively:"
      ]
    },
    {
      "cell_type": "code",
      "execution_count": null,
      "metadata": {
        "deletable": true,
        "editable": true,
        "id": "wKl6kfNLqvix",
        "outputId": "d4105c0c-b605-4769-be92-6f5426813926"
      },
      "outputs": [],
      "source": [
        "X = digits.data\n",
        "X.shape"
      ]
    },
    {
      "cell_type": "code",
      "execution_count": null,
      "metadata": {
        "deletable": true,
        "editable": true,
        "id": "EE40SxsZqvix",
        "outputId": "528ea531-bb88-4a1e-8eca-4855e350670a"
      },
      "outputs": [],
      "source": [
        "y = digits.target\n",
        "y.shape"
      ]
    },
    {
      "cell_type": "markdown",
      "metadata": {
        "deletable": true,
        "editable": true,
        "id": "njP8xAUlqvix"
      },
      "source": [
        "We see here that there are 1,797 samples and 64 features."
      ]
    },
    {
      "cell_type": "markdown",
      "metadata": {
        "deletable": true,
        "editable": true,
        "id": "G3TvDdXLqvix"
      },
      "source": [
        "### Unsupervised learning: Dimensionality reduction\n",
        "\n",
        "We'd like to visualize our points within the 64-dimensional parameter space, but it's difficult to effectively visualize points in such a high-dimensional space.\n",
        "Instead we'll reduce the dimensions to 2, using an unsupervised method.\n",
        "Here, we'll make use of a manifold learning algorithm called *Isomap* (see [In-Depth: Manifold Learning](05.10-Manifold-Learning.ipynb)), and transform the data to two dimensions:"
      ]
    },
    {
      "cell_type": "code",
      "execution_count": null,
      "metadata": {
        "deletable": true,
        "editable": true,
        "id": "M_UFMCssqvix",
        "outputId": "3149ef75-3d1e-417a-8133-0c5c29a93cc1"
      },
      "outputs": [],
      "source": [
        "from sklearn.manifold import Isomap\n",
        "iso = Isomap(n_components=2)\n",
        "iso.fit(digits.data)\n",
        "data_projected = iso.transform(digits.data)\n",
        "data_projected.shape"
      ]
    },
    {
      "cell_type": "markdown",
      "metadata": {
        "deletable": true,
        "editable": true,
        "id": "t3fyQmIdqvix"
      },
      "source": [
        "We see that the projected data is now two-dimensional.\n",
        "Let's plot this data to see if we can learn anything from its structure:"
      ]
    },
    {
      "cell_type": "code",
      "execution_count": null,
      "metadata": {
        "deletable": true,
        "editable": true,
        "id": "36-Gvregqvix",
        "outputId": "527425aa-377a-486a-c9c3-1d7b8f08d5db"
      },
      "outputs": [],
      "source": [
        "plt.scatter(data_projected[:, 0], data_projected[:, 1], c=digits.target,\n",
        "            edgecolor='none', alpha=0.5,\n",
        "            cmap=plt.cm.get_cmap('Spectral', 10)) # 'spectral' is not a valid value for name;\n",
        "plt.colorbar(label='digit label', ticks=range(10))\n",
        "plt.clim(-0.5, 9.5);"
      ]
    },
    {
      "cell_type": "markdown",
      "metadata": {
        "deletable": true,
        "editable": true,
        "id": "YDtMyzbGqvix"
      },
      "source": [
        "This plot gives us some good intuition into how well various numbers are separated in the larger 64-dimensional space. For example, zeros (in black) and ones (in purple) have very little overlap in parameter space.\n",
        "Intuitively, this makes sense: a zero is empty in the middle of the image, while a one will generally have ink in the middle.\n",
        "On the other hand, there seems to be a more or less continuous spectrum between ones and fours: we can understand this by realizing that some people draw ones with \"hats\" on them, which cause them to look similar to fours.\n",
        "\n",
        "Overall, however, the different groups appear to be fairly well separated in the parameter space: this tells us that even a very straightforward supervised classification algorithm should perform suitably on this data.\n",
        "Let's give it a try."
      ]
    },
    {
      "cell_type": "markdown",
      "metadata": {
        "deletable": true,
        "editable": true,
        "id": "PKKjYlPzqvix"
      },
      "source": [
        "### Classification on digits\n",
        "\n",
        "Let's apply a classification algorithm to the digits.\n",
        "As with the Iris data previously, we will split the data into a training and testing set, and fit a Gaussian naive Bayes model:"
      ]
    },
    {
      "cell_type": "code",
      "execution_count": null,
      "metadata": {
        "collapsed": true,
        "deletable": true,
        "editable": true,
        "id": "f-YTTzzYqvix"
      },
      "outputs": [],
      "source": [
        "Xtrain, Xtest, ytrain, ytest = train_test_split(X, y, random_state=0)"
      ]
    },
    {
      "cell_type": "code",
      "execution_count": null,
      "metadata": {
        "collapsed": true,
        "deletable": true,
        "editable": true,
        "id": "dGQnYAb4qvix"
      },
      "outputs": [],
      "source": [
        "from sklearn.naive_bayes import GaussianNB\n",
        "model = GaussianNB()\n",
        "model.fit(Xtrain, ytrain)\n",
        "y_model = model.predict(Xtest)"
      ]
    },
    {
      "cell_type": "markdown",
      "metadata": {
        "deletable": true,
        "editable": true,
        "id": "9Gn7LmFrqvix"
      },
      "source": [
        "Now that we have predicted our model, we can gauge its accuracy by comparing the true values of the test set to the predictions:"
      ]
    },
    {
      "cell_type": "code",
      "execution_count": null,
      "metadata": {
        "deletable": true,
        "editable": true,
        "id": "a5XJ7FWRqvix",
        "outputId": "4c2b11b5-2de5-4e01-dd60-79808cb538e9"
      },
      "outputs": [],
      "source": [
        "from sklearn.metrics import accuracy_score\n",
        "accuracy_score(ytest, y_model)"
      ]
    },
    {
      "cell_type": "markdown",
      "metadata": {
        "deletable": true,
        "editable": true,
        "id": "FX5lwYNhqvix"
      },
      "source": [
        "With even this extremely simple model, we find about 80% accuracy for classification of the digits!\n",
        "However, this single number doesn't tell us *where* we've gone wrong—one nice way to do this is to use the *confusion matrix*, which we can compute with Scikit-Learn and plot with Seaborn:"
      ]
    },
    {
      "cell_type": "code",
      "execution_count": null,
      "metadata": {
        "deletable": true,
        "editable": true,
        "id": "8UIpVRabqviy",
        "outputId": "d29a0b0c-f3d8-423f-c1d0-73a822bba9eb"
      },
      "outputs": [],
      "source": [
        "from sklearn.metrics import confusion_matrix\n",
        "\n",
        "mat = confusion_matrix(ytest, y_model)\n",
        "\n",
        "sns.heatmap(mat, square=True, annot=True, cbar=False)\n",
        "plt.xlabel('predicted value')\n",
        "plt.ylabel('true value');"
      ]
    },
    {
      "cell_type": "markdown",
      "metadata": {
        "deletable": true,
        "editable": true,
        "id": "QmW3w4bCqviy"
      },
      "source": [
        "This shows us where the mis-labeled points tend to be: for example, a large number of twos here are mis-classified as either ones or eights.\n",
        "Another way to gain intuition into the characteristics of the model is to plot the inputs again, with their predicted labels.\n",
        "We'll use green for correct labels, and red for incorrect labels:"
      ]
    },
    {
      "cell_type": "code",
      "execution_count": null,
      "metadata": {
        "deletable": true,
        "editable": true,
        "id": "C-GT5YD4qviy",
        "outputId": "4893a9cc-687c-4a9c-9474-e90c68adb274"
      },
      "outputs": [],
      "source": [
        "fig, axes = plt.subplots(10, 10, figsize=(8, 8),\n",
        "                         subplot_kw={'xticks':[], 'yticks':[]},\n",
        "                         gridspec_kw=dict(hspace=0.1, wspace=0.1))\n",
        "\n",
        "test_images = Xtest.reshape(-1, 8, 8)\n",
        "\n",
        "for i, ax in enumerate(axes.flat):\n",
        "    ax.imshow(test_images[i], cmap='binary', interpolation='nearest')\n",
        "    ax.text(0.05, 0.05, str(y_model[i]),\n",
        "            transform=ax.transAxes,\n",
        "            color='green' if (ytest[i] == y_model[i]) else 'red')"
      ]
    },
    {
      "cell_type": "markdown",
      "metadata": {
        "deletable": true,
        "editable": true,
        "id": "ZO0yjKPWqviy"
      },
      "source": [
        "Examining this subset of the data, we can gain insight regarding where the algorithm might be not performing optimally.\n",
        "To go beyond our 80% classification rate, we might move to a more sophisticated algorithm such as support vector machines (see [In-Depth: Support Vector Machines](05.07-Support-Vector-Machines.ipynb)), random forests (see [In-Depth: Decision Trees and Random Forests](05.08-Random-Forests.ipynb)) or another classification approach."
      ]
    },
    {
      "cell_type": "markdown",
      "metadata": {
        "deletable": true,
        "editable": true,
        "id": "_IPcHesGqviy"
      },
      "source": [
        "## Summary"
      ]
    },
    {
      "cell_type": "markdown",
      "metadata": {
        "deletable": true,
        "editable": true,
        "id": "Q0JcveDTqviy"
      },
      "source": [
        "In this section we have covered the essential features of the Scikit-Learn data representation, and the estimator API.\n",
        "Regardless of the type of estimator, the same import/instantiate/fit/predict pattern holds.\n",
        "Armed with this information about the estimator API, you can explore the Scikit-Learn documentation and begin trying out various models on your data.\n",
        "\n",
        "In the next section, we will explore perhaps the most important topic in machine learning: how to select and validate your model."
      ]
    },
    {
      "cell_type": "markdown",
      "metadata": {
        "deletable": true,
        "editable": true,
        "id": "pB_0ARDyqviy"
      },
      "source": [
        "<!--NAVIGATION-->\n",
        "< [What Is Machine Learning?](05.01-What-Is-Machine-Learning.ipynb) | [Contents](Index.ipynb) | [Hyperparameters and Model Validation](05.03-Hyperparameters-and-Model-Validation.ipynb) >\n",
        "\n",
        "<a href=\"https://colab.research.google.com/github/jakevdp/PythonDataScienceHandbook/blob/master/notebooks/05.02-Introducing-Scikit-Learn.ipynb\"><img align=\"left\" src=\"https://colab.research.google.com/assets/colab-badge.svg\" alt=\"Open in Colab\" title=\"Open and Execute in Google Colaboratory\"></a>\n"
      ]
    }
  ],
  "metadata": {
    "anaconda-cloud": {},
    "colab": {
      "provenance": []
    },
    "kernelspec": {
      "display_name": "Python 3.10.0 ('py3')",
      "language": "python",
      "name": "python3"
    },
    "language_info": {
      "codemirror_mode": {
        "name": "ipython",
        "version": 3
      },
      "file_extension": ".py",
      "mimetype": "text/x-python",
      "name": "python",
      "nbconvert_exporter": "python",
      "pygments_lexer": "ipython3",
      "version": "3.10.0"
    },
    "vscode": {
      "interpreter": {
        "hash": "2c3bff86770cbf5039bf858b32bbc6318a4ee7afa82cacee7ee12934f92a1c87"
      }
    }
  },
  "nbformat": 4,
  "nbformat_minor": 0
}
